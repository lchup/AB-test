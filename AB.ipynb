{
 "cells": [
  {
   "cell_type": "code",
   "execution_count": 1,
   "id": "0470b4a1-05c8-42a4-9692-554abaa34487",
   "metadata": {},
   "outputs": [],
   "source": [
    "import numpy as np\n",
    "import pandas as pd\n",
    "import matplotlib.pyplot as plt\n",
    "import seaborn as sns\n",
    "import pandahouse as ph\n",
    "%matplotlib inline\n",
    "import warnings\n",
    "\n",
    "warnings.filterwarnings('ignore')"
   ]
  },
  {
   "cell_type": "code",
   "execution_count": 2,
   "id": "9fc1feca-0777-458b-b9c6-c13bf8ef13f2",
   "metadata": {},
   "outputs": [],
   "source": [
    "\n",
    "connection = {\n",
    "    'host': '',\n",
    "    'database':'',\n",
    "    'user':'',\n",
    "    'password':''\n",
    "}\n"
   ]
  },
  {
   "cell_type": "code",
   "execution_count": 3,
   "id": "eb5dcfd5-842e-415e-a82d-824b964eb528",
   "metadata": {},
   "outputs": [
    {
     "data": {
      "text/html": [
       "<div>\n",
       "<style scoped>\n",
       "    .dataframe tbody tr th:only-of-type {\n",
       "        vertical-align: middle;\n",
       "    }\n",
       "\n",
       "    .dataframe tbody tr th {\n",
       "        vertical-align: top;\n",
       "    }\n",
       "\n",
       "    .dataframe thead th {\n",
       "        text-align: right;\n",
       "    }\n",
       "</style>\n",
       "<table border=\"1\" class=\"dataframe\">\n",
       "  <thead>\n",
       "    <tr style=\"text-align: right;\">\n",
       "      <th></th>\n",
       "      <th>exp_group</th>\n",
       "      <th>user_id</th>\n",
       "      <th>likes</th>\n",
       "      <th>views</th>\n",
       "      <th>ctr</th>\n",
       "    </tr>\n",
       "  </thead>\n",
       "  <tbody>\n",
       "    <tr>\n",
       "      <th>0</th>\n",
       "      <td>1</td>\n",
       "      <td>109963</td>\n",
       "      <td>3</td>\n",
       "      <td>15</td>\n",
       "      <td>0.200000</td>\n",
       "    </tr>\n",
       "    <tr>\n",
       "      <th>1</th>\n",
       "      <td>1</td>\n",
       "      <td>26117</td>\n",
       "      <td>32</td>\n",
       "      <td>141</td>\n",
       "      <td>0.226950</td>\n",
       "    </tr>\n",
       "    <tr>\n",
       "      <th>2</th>\n",
       "      <td>1</td>\n",
       "      <td>138232</td>\n",
       "      <td>18</td>\n",
       "      <td>73</td>\n",
       "      <td>0.246575</td>\n",
       "    </tr>\n",
       "    <tr>\n",
       "      <th>3</th>\n",
       "      <td>1</td>\n",
       "      <td>18392</td>\n",
       "      <td>7</td>\n",
       "      <td>32</td>\n",
       "      <td>0.218750</td>\n",
       "    </tr>\n",
       "    <tr>\n",
       "      <th>4</th>\n",
       "      <td>1</td>\n",
       "      <td>26295</td>\n",
       "      <td>39</td>\n",
       "      <td>141</td>\n",
       "      <td>0.276596</td>\n",
       "    </tr>\n",
       "    <tr>\n",
       "      <th>...</th>\n",
       "      <td>...</td>\n",
       "      <td>...</td>\n",
       "      <td>...</td>\n",
       "      <td>...</td>\n",
       "      <td>...</td>\n",
       "    </tr>\n",
       "    <tr>\n",
       "      <th>19892</th>\n",
       "      <td>2</td>\n",
       "      <td>17146</td>\n",
       "      <td>0</td>\n",
       "      <td>10</td>\n",
       "      <td>0.000000</td>\n",
       "    </tr>\n",
       "    <tr>\n",
       "      <th>19893</th>\n",
       "      <td>1</td>\n",
       "      <td>30872</td>\n",
       "      <td>11</td>\n",
       "      <td>59</td>\n",
       "      <td>0.186441</td>\n",
       "    </tr>\n",
       "    <tr>\n",
       "      <th>19894</th>\n",
       "      <td>2</td>\n",
       "      <td>25383</td>\n",
       "      <td>42</td>\n",
       "      <td>127</td>\n",
       "      <td>0.330709</td>\n",
       "    </tr>\n",
       "    <tr>\n",
       "      <th>19895</th>\n",
       "      <td>2</td>\n",
       "      <td>139020</td>\n",
       "      <td>17</td>\n",
       "      <td>41</td>\n",
       "      <td>0.414634</td>\n",
       "    </tr>\n",
       "    <tr>\n",
       "      <th>19896</th>\n",
       "      <td>2</td>\n",
       "      <td>17310</td>\n",
       "      <td>9</td>\n",
       "      <td>82</td>\n",
       "      <td>0.109756</td>\n",
       "    </tr>\n",
       "  </tbody>\n",
       "</table>\n",
       "<p>19897 rows × 5 columns</p>\n",
       "</div>"
      ],
      "text/plain": [
       "       exp_group  user_id  likes  views       ctr\n",
       "0              1   109963      3     15  0.200000\n",
       "1              1    26117     32    141  0.226950\n",
       "2              1   138232     18     73  0.246575\n",
       "3              1    18392      7     32  0.218750\n",
       "4              1    26295     39    141  0.276596\n",
       "...          ...      ...    ...    ...       ...\n",
       "19892          2    17146      0     10  0.000000\n",
       "19893          1    30872     11     59  0.186441\n",
       "19894          2    25383     42    127  0.330709\n",
       "19895          2   139020     17     41  0.414634\n",
       "19896          2    17310      9     82  0.109756\n",
       "\n",
       "[19897 rows x 5 columns]"
      ]
     },
     "execution_count": 3,
     "metadata": {},
     "output_type": "execute_result"
    }
   ],
   "source": [
    "q = \"\"\"\n",
    "    SELECT exp_group, user_id,\n",
    "    sum(action = 'like') as likes,\n",
    "    sum(action = 'view') as views,\n",
    "    likes/views as ctr\n",
    "    FROM {db}.feed_actions\n",
    "    WHERE toDate(time) between '2023-11-18' and '2023-11-24'\n",
    "    and exp_group in (1,2)\n",
    "    GROUP BY exp_group, user_id\n",
    "\"\"\"\n",
    "df = ph.read_clickhouse(q, connection=connection)\n",
    "df"
   ]
  },
  {
   "cell_type": "code",
   "execution_count": 4,
   "id": "8e8cf20c-ee70-495c-a7b4-cadd85379c4e",
   "metadata": {},
   "outputs": [],
   "source": [
    "def get_smothed_ctr(user_likes, user_views, global_ctr, alpha):\n",
    "    return (user_likes + alpha + global_ctr)/(user_views + alpha)"
   ]
  },
  {
   "cell_type": "code",
   "execution_count": 5,
   "id": "ead314bf-8b82-4a61-9357-5a44fdc12a96",
   "metadata": {},
   "outputs": [],
   "source": [
    "global_ctr_1 = df[df.exp_group == 1].likes.sum()/df[df.exp_group == 1].views.sum()\n",
    "global_ctr_2 = df[df.exp_group == 2].likes.sum()/df[df.exp_group == 2].views.sum()"
   ]
  },
  {
   "cell_type": "code",
   "execution_count": 6,
   "id": "d7b76647-628c-40ab-b87e-85fd93086949",
   "metadata": {},
   "outputs": [
    {
     "data": {
      "text/plain": [
       "(0.2096041628394293, 0.20025051027061783)"
      ]
     },
     "execution_count": 6,
     "metadata": {},
     "output_type": "execute_result"
    }
   ],
   "source": [
    "global_ctr_1, global_ctr_2"
   ]
  },
  {
   "cell_type": "code",
   "execution_count": 7,
   "id": "7202b516-7b0a-422c-bd9e-236116ac1fc0",
   "metadata": {},
   "outputs": [],
   "source": [
    "group_1 = df[df.exp_group == 1].copy()\n",
    "group_1['smothed_ctr'] = df.apply(lambda x: get_smothed_ctr(x['likes'], x['views'], global_ctr_1, 5), axis=1)"
   ]
  },
  {
   "cell_type": "code",
   "execution_count": 8,
   "id": "5266304c-8578-467e-b588-18751f05ef06",
   "metadata": {},
   "outputs": [],
   "source": [
    "group_2 = df[df.exp_group == 2].copy()\n",
    "group_2['smothed_ctr'] = df.apply(lambda x: get_smothed_ctr(x['likes'], x['views'], global_ctr_2, 5), axis=1)\n"
   ]
  },
  {
   "cell_type": "markdown",
   "id": "d588d15b-7f22-4e19-8c73-f782001e0661",
   "metadata": {},
   "source": [
    "Гистограммы сглаженного и исходного ctr"
   ]
  },
  {
   "cell_type": "code",
   "execution_count": 9,
   "id": "65b4b8b4-91d5-435a-9e02-5f5f8ab0dfa4",
   "metadata": {},
   "outputs": [
    {
     "data": {
      "text/plain": [
       "[Text(0.5, 0, 'CTR Группа 2')]"
      ]
     },
     "execution_count": 9,
     "metadata": {},
     "output_type": "execute_result"
    },
    {
     "data": {
      "image/png": "[encoded data removed]",
      "text/plain": [
       "<Figure size 1152x576 with 2 Axes>"
      ]
     },
     "metadata": {},
     "output_type": "display_data"
    }
   ],
   "source": [
    "sns.set(rc={\"figure.figsize\": (16, 8)})\n",
    "ax_1 = plt.subplot(1, 2, 1)\n",
    "ax_1 = sns.distplot(group_1.ctr, kde=False)\n",
    "ax_1 = sns.distplot(group_1.smothed_ctr, kde=False)\n",
    "ax_1.set(xlabel=\"CTR Группа 1\")\n",
    "\n",
    "ax_2 = plt.subplot(1, 2, 2)\n",
    "ax_2 = sns.distplot(group_2.ctr, kde=False)\n",
    "ax_2 = sns.distplot(group_2.smothed_ctr, kde=False)\n",
    "ax_2.set(xlabel=\"CTR Группа 2\")"
   ]
  },
  {
   "cell_type": "markdown",
   "id": "591c7db3-9319-451c-aa46-751a76af2648",
   "metadata": {},
   "source": [
    "# Гистограмма ctr между группами"
   ]
  },
  {
   "cell_type": "code",
   "execution_count": 10,
   "id": "4b6119f3-f04a-4ef8-8c3d-4b82687b6c21",
   "metadata": {},
   "outputs": [
    {
     "data": {
      "image/png": "[encoded data removed]",
      "text/plain": [
       "<Figure size 576x576 with 1 Axes>"
      ]
     },
     "metadata": {},
     "output_type": "display_data"
    }
   ],
   "source": [
    "sns.set(rc={\"figure.figsize\": (8, 8)})\n",
    "\n",
    "ax = sns.distplot(group_1.ctr, kde=False)\n",
    "ax = sns.distplot(group_2.ctr, kde=False)\n"
   ]
  },
  {
   "cell_type": "markdown",
   "id": "dacf5a76-44a0-4701-aef5-40e8efd6fa04",
   "metadata": {},
   "source": [
    "Видим, что распределения различаются. Но нельзя сказать , что одно смещенно относительно другого. \n",
    "\n",
    "\n",
    "Проведем анализ, с помощью статистических критериев"
   ]
  },
  {
   "cell_type": "markdown",
   "id": "261d2695-8a6e-418b-bcbe-b69bac9991f3",
   "metadata": {},
   "source": [
    "# t-test"
   ]
  },
  {
   "cell_type": "code",
   "execution_count": 26,
   "id": "4c33bc0a-f304-4f0c-8d8b-7f9f5726dba0",
   "metadata": {},
   "outputs": [
    {
     "name": "stdout",
     "output_type": "stream",
     "text": [
      "t-test\n",
      "Ttest_indResult(statistic=-0.4051491913112757, pvalue=0.685373331140751)\n",
      "\n",
      "t-test на сглаженном ctr\n",
      "Ttest_indResult(statistic=-0.7761549154109063, pvalue=0.43766815035447193)\n"
     ]
    }
   ],
   "source": [
    "from scipy.stats import ttest_ind\n",
    "print('t-test')\n",
    "print(ttest_ind(group_2.ctr, group_1.ctr,  equal_var = False))\n",
    "print('\\nt-test на сглаженном ctr')\n",
    "print(ttest_ind(group_2.smothed_ctr, group_1.smothed_ctr,  equal_var = False))"
   ]
  },
  {
   "cell_type": "markdown",
   "id": "7853380e-af2b-47bd-b4c5-85620ac41884",
   "metadata": {},
   "source": [
    "В обоих случаях получили p-value больше , чем 0.05.\n",
    "\n",
    "Следовательно, не можем отвергнуть нулевую гипотезу о равенстве средних. \n",
    "\n",
    "t-test говорит нам о том, нет статистически значимого отклонения, а значит ctr в группах не различается.\n",
    "\n",
    "\n",
    "Однако, глядя на графики распределений видно, что распределение ctr группы 2 двухмодальное, оно НЕ симметричное, следовательное НЕ может иметь t-распределение Стьюдента. Поэтому мы не можем применять t-test."
   ]
  },
  {
   "cell_type": "markdown",
   "id": "eec7aa31-f7ab-439d-b842-bd848fcabe21",
   "metadata": {},
   "source": [
    "# тест Манна-Уитни"
   ]
  },
  {
   "cell_type": "code",
   "execution_count": 12,
   "id": "17797b82-1157-4659-af72-9ad0e3886ce8",
   "metadata": {},
   "outputs": [
    {
     "data": {
      "text/plain": [
       "MannwhitneyuResult(statistic=55189913.0, pvalue=4.632205841806026e-45)"
      ]
     },
     "execution_count": 12,
     "metadata": {},
     "output_type": "execute_result"
    }
   ],
   "source": [
    "from scipy.stats import mannwhitneyu\n",
    "mannwhitneyu(group_2.ctr, group_1.ctr)"
   ]
  },
  {
   "cell_type": "code",
   "execution_count": 22,
   "id": "6a75bdb2-2c21-42cf-b2b2-910cef3efa0e",
   "metadata": {},
   "outputs": [
    {
     "data": {
      "text/plain": [
       "MannwhitneyuResult(statistic=45416075.0, pvalue=1.0039035004619023e-23)"
      ]
     },
     "execution_count": 22,
     "metadata": {},
     "output_type": "execute_result"
    }
   ],
   "source": [
    "from scipy.stats import mannwhitneyu\n",
    "mannwhitneyu(group_2.smothed_ctr, group_1.smothed_ctr)"
   ]
  },
  {
   "cell_type": "markdown",
   "id": "cf40bd1a-305a-4e95-acae-39923a8b23b9",
   "metadata": {},
   "source": [
    "p-value близко к нулю, а значит можем отвергнуть нулевую гипотезу на уровне значимости 0.05, что распределения случайных величин между выборками не различаются. \n",
    "Таким образом можно сказать, что ctr  в группах различаются."
   ]
  },
  {
   "cell_type": "markdown",
   "id": "1a9a8b76-dd2e-40b0-911b-3a53d31fdba4",
   "metadata": {},
   "source": [
    "# Пуассоновский бутстреп"
   ]
  },
  {
   "cell_type": "code",
   "execution_count": 14,
   "id": "509f674c-12bd-4533-98cf-d957608981bd",
   "metadata": {},
   "outputs": [],
   "source": [
    "from  scipy.stats import poisson\n",
    "def bootstrap(likes1, views1, likes2, views2, n_bootstrap=2000):\n",
    "\n",
    "    poisson_bootstraps1 = poisson(1).rvs(\n",
    "        (n_bootstrap, len(likes1))).astype(np.int64)\n",
    "\n",
    "    poisson_bootstraps2 = poisson(1).rvs(\n",
    "            (n_bootstrap, len(likes2))).astype(np.int64)\n",
    "    \n",
    "    globalCTR1 = (poisson_bootstraps1*likes1).sum(axis=1)/(poisson_bootstraps1*views1).sum(axis=1)\n",
    "    \n",
    "    globalCTR2 = (poisson_bootstraps2*likes2).sum(axis=1)/(poisson_bootstraps2*views2).sum(axis=1)\n",
    "\n",
    "    return globalCTR1, globalCTR2\n"
   ]
  },
  {
   "cell_type": "code",
   "execution_count": 15,
   "id": "0cbf0004-f2bc-45f7-9224-bb2c48f27fc3",
   "metadata": {},
   "outputs": [
    {
     "data": {
      "text/plain": [
       "<Axes: ylabel='Count'>"
      ]
     },
     "execution_count": 15,
     "metadata": {},
     "output_type": "execute_result"
    },
    {
     "data": {
      "image/png": "[encoded data removed]",
      "text/plain": [
       "<Figure size 1152x576 with 1 Axes>"
      ]
     },
     "metadata": {},
     "output_type": "display_data"
    }
   ],
   "source": [
    "sns.set(rc={\"figure.figsize\": (16, 8)})\n",
    "likes1 = df[df.exp_group == 1].likes.to_numpy()\n",
    "views1 = df[df.exp_group == 1].views.to_numpy()\n",
    "likes2 = df[df.exp_group == 2].likes.to_numpy()\n",
    "views2 = df[df.exp_group == 2].views.to_numpy()\n",
    "\n",
    "ctr1, ctr2 = bootstrap(likes1, views1, likes2, views2)\n",
    "\n",
    "sns.histplot(ctr1)\n",
    "sns.histplot(ctr2)"
   ]
  },
  {
   "cell_type": "markdown",
   "id": "7c4551a4-abb4-4d02-9522-b0e2bf05055d",
   "metadata": {},
   "source": [
    "Бутстреп показывает, что в первой группе глобальный ctr значительно выше, чем в первой"
   ]
  },
  {
   "cell_type": "code",
   "execution_count": 16,
   "id": "133b4a50-963c-4230-9ca0-4dfef70b32cc",
   "metadata": {},
   "outputs": [
    {
     "data": {
      "text/plain": [
       "<Axes: ylabel='Count'>"
      ]
     },
     "execution_count": 16,
     "metadata": {},
     "output_type": "execute_result"
    },
    {
     "data": {
      "image/png": "[encoded data removed]",
      "text/plain": [
       "<Figure size 1152x576 with 1 Axes>"
      ]
     },
     "metadata": {},
     "output_type": "display_data"
    }
   ],
   "source": [
    "# посмотрим гистограмму разницы. Из тестовой группы вычтем контрольную\n",
    "sns.histplot(ctr2-ctr1)"
   ]
  },
  {
   "cell_type": "markdown",
   "id": "d0ebb768-a14c-4b69-a78a-81eb106ea6e0",
   "metadata": {},
   "source": [
    "Получили отрицательные значения, что подтверждает тот факт, что в тестовой группе ctr ниже"
   ]
  },
  {
   "cell_type": "markdown",
   "id": "c6a28291-0f95-415f-a89f-83d1a1d230a1",
   "metadata": {},
   "source": [
    "# Бакетное преобразование"
   ]
  },
  {
   "cell_type": "code",
   "execution_count": 17,
   "id": "28f50ec6-f386-4f94-b723-f0f49bdc8314",
   "metadata": {},
   "outputs": [
    {
     "data": {
      "text/html": [
       "<div>\n",
       "<style scoped>\n",
       "    .dataframe tbody tr th:only-of-type {\n",
       "        vertical-align: middle;\n",
       "    }\n",
       "\n",
       "    .dataframe tbody tr th {\n",
       "        vertical-align: top;\n",
       "    }\n",
       "\n",
       "    .dataframe thead th {\n",
       "        text-align: right;\n",
       "    }\n",
       "</style>\n",
       "<table border=\"1\" class=\"dataframe\">\n",
       "  <thead>\n",
       "    <tr style=\"text-align: right;\">\n",
       "      <th></th>\n",
       "      <th>exp_group</th>\n",
       "      <th>bucket</th>\n",
       "      <th>bucket_ctr</th>\n",
       "      <th>ctr9</th>\n",
       "    </tr>\n",
       "  </thead>\n",
       "  <tbody>\n",
       "    <tr>\n",
       "      <th>0</th>\n",
       "      <td>1</td>\n",
       "      <td>0</td>\n",
       "      <td>0.200592</td>\n",
       "      <td>0.305556</td>\n",
       "    </tr>\n",
       "    <tr>\n",
       "      <th>1</th>\n",
       "      <td>2</td>\n",
       "      <td>0</td>\n",
       "      <td>0.196510</td>\n",
       "      <td>0.385321</td>\n",
       "    </tr>\n",
       "    <tr>\n",
       "      <th>2</th>\n",
       "      <td>1</td>\n",
       "      <td>1</td>\n",
       "      <td>0.208799</td>\n",
       "      <td>0.311111</td>\n",
       "    </tr>\n",
       "    <tr>\n",
       "      <th>3</th>\n",
       "      <td>2</td>\n",
       "      <td>1</td>\n",
       "      <td>0.210375</td>\n",
       "      <td>0.485714</td>\n",
       "    </tr>\n",
       "    <tr>\n",
       "      <th>4</th>\n",
       "      <td>1</td>\n",
       "      <td>2</td>\n",
       "      <td>0.204632</td>\n",
       "      <td>0.314286</td>\n",
       "    </tr>\n",
       "    <tr>\n",
       "      <th>...</th>\n",
       "      <td>...</td>\n",
       "      <td>...</td>\n",
       "      <td>...</td>\n",
       "      <td>...</td>\n",
       "    </tr>\n",
       "    <tr>\n",
       "      <th>95</th>\n",
       "      <td>2</td>\n",
       "      <td>47</td>\n",
       "      <td>0.196808</td>\n",
       "      <td>0.428571</td>\n",
       "    </tr>\n",
       "    <tr>\n",
       "      <th>96</th>\n",
       "      <td>1</td>\n",
       "      <td>48</td>\n",
       "      <td>0.216369</td>\n",
       "      <td>0.320000</td>\n",
       "    </tr>\n",
       "    <tr>\n",
       "      <th>97</th>\n",
       "      <td>2</td>\n",
       "      <td>48</td>\n",
       "      <td>0.194780</td>\n",
       "      <td>0.400000</td>\n",
       "    </tr>\n",
       "    <tr>\n",
       "      <th>98</th>\n",
       "      <td>1</td>\n",
       "      <td>49</td>\n",
       "      <td>0.206288</td>\n",
       "      <td>0.333333</td>\n",
       "    </tr>\n",
       "    <tr>\n",
       "      <th>99</th>\n",
       "      <td>2</td>\n",
       "      <td>49</td>\n",
       "      <td>0.192512</td>\n",
       "      <td>0.382353</td>\n",
       "    </tr>\n",
       "  </tbody>\n",
       "</table>\n",
       "<p>100 rows × 4 columns</p>\n",
       "</div>"
      ],
      "text/plain": [
       "    exp_group  bucket  bucket_ctr      ctr9\n",
       "0           1       0    0.200592  0.305556\n",
       "1           2       0    0.196510  0.385321\n",
       "2           1       1    0.208799  0.311111\n",
       "3           2       1    0.210375  0.485714\n",
       "4           1       2    0.204632  0.314286\n",
       "..        ...     ...         ...       ...\n",
       "95          2      47    0.196808  0.428571\n",
       "96          1      48    0.216369  0.320000\n",
       "97          2      48    0.194780  0.400000\n",
       "98          1      49    0.206288  0.333333\n",
       "99          2      49    0.192512  0.382353\n",
       "\n",
       "[100 rows x 4 columns]"
      ]
     },
     "execution_count": 17,
     "metadata": {},
     "output_type": "execute_result"
    }
   ],
   "source": [
    "q = \"\"\"\n",
    "\n",
    "SELECT exp_group, bucket,\n",
    "    sum(likes)/sum(views) as bucket_ctr,\n",
    "    quantileExact(0.9)(ctr) as ctr9\n",
    "FROM (SELECT exp_group, \n",
    "        xxHash64(user_id)%50 as bucket,\n",
    "        user_id,\n",
    "        sum(action = 'like') as likes,\n",
    "        sum(action = 'view') as views,\n",
    "        likes/views as ctr\n",
    "    FROM {db}.feed_actions \n",
    "    WHERE toDate(time) between '2023-11-18' and '2023-11-24'\n",
    "        and exp_group in (1,2)\n",
    "    GROUP BY exp_group, bucket, user_id)\n",
    "GROUP BY exp_group, bucket\n",
    "\"\"\"\n",
    "\n",
    "df1 = ph.read_clickhouse(q, connection=connection)\n",
    "df1\n"
   ]
  },
  {
   "cell_type": "code",
   "execution_count": 32,
   "id": "eb1b5971-5316-469a-942a-89acccd5e183",
   "metadata": {},
   "outputs": [
    {
     "data": {
      "text/plain": [
       "<Axes: xlabel='bucket_ctr', ylabel='Count'>"
      ]
     },
     "execution_count": 32,
     "metadata": {},
     "output_type": "execute_result"
    },
    {
     "data": {
      "image/png": "[encoded data removed]",
      "text/plain": [
       "<Figure size 1152x576 with 1 Axes>"
      ]
     },
     "metadata": {},
     "output_type": "display_data"
    }
   ],
   "source": [
    "sns.histplot(df1[df1.exp_group == 1].bucket_ctr)\n",
    "sns.histplot(df1[df1.exp_group == 2].bucket_ctr)"
   ]
  },
  {
   "cell_type": "markdown",
   "id": "015d9f30-6eb2-41a2-ba68-d9d1bd6016cc",
   "metadata": {},
   "source": [
    "Распределения бакетного CTR похожи на нормальные"
   ]
  },
  {
   "cell_type": "code",
   "execution_count": 23,
   "id": "09e0551c-fad5-4951-86a0-6a0402b96cfd",
   "metadata": {},
   "outputs": [
    {
     "data": {
      "text/plain": [
       "MannwhitneyuResult(statistic=503.0, pvalue=2.6576427804010095e-07)"
      ]
     },
     "execution_count": 23,
     "metadata": {},
     "output_type": "execute_result"
    }
   ],
   "source": [
    "#Тест Манна-Уитни\n",
    "mannwhitneyu(df1[df1.exp_group == 2].bucket_ctr, df1[df1.exp_group == 1].bucket_ctr)"
   ]
  },
  {
   "cell_type": "code",
   "execution_count": 25,
   "id": "41ecf929-74d7-485c-aacb-73dbb9baca4b",
   "metadata": {},
   "outputs": [
    {
     "data": {
      "text/plain": [
       "Ttest_indResult(statistic=-5.614819358149381, pvalue=4.592644937473873e-07)"
      ]
     },
     "execution_count": 25,
     "metadata": {},
     "output_type": "execute_result"
    }
   ],
   "source": [
    "# t-тест\n",
    "\n",
    "ttest_ind(df1[df1.exp_group == 2].bucket_ctr, df1[df1.exp_group == 1].bucket_ctr, \n",
    "                   equal_var = False)"
   ]
  },
  {
   "cell_type": "markdown",
   "id": "a5e6a054-5f4f-422e-8500-8f996ff68a3a",
   "metadata": {},
   "source": [
    "Тесты t-test и Манна-Уитни поверх бакетного преобразования отвергают нулевую гипотезу."
   ]
  },
  {
   "cell_type": "markdown",
   "id": "f3500a6d-1b4f-487b-8f17-55c433e4e643",
   "metadata": {},
   "source": [
    "# Выводы\n",
    "Я бы не стала рекомендовать раскатывать новый алгоритм на всех пользователей. Тест пуассоновского бутстрепа говорит о том, что ctr в тестовой группе стал хуже. Из визуального анализа можно увидеть, что распределение группы 2 имеет два горба, пики которых находятся по разные стороны от пика распределения группы 1. Можно сделать вывод о том, что для каких-то пользователей новый алгоритм сработал лучше, чем старый, а для других пользователей новый алгоритм сработал хуже. Возможно стоить провести анализ пользователей, показавших лучшие и худшие результаты и на основе этих данных доработать алгоритм"
   ]
  },
  {
   "cell_type": "code",
   "execution_count": null,
   "id": "945818e0-2f74-49d4-b5e8-c43360db3325",
   "metadata": {},
   "outputs": [],
   "source": []
  }
 ],
 "metadata": {
  "kernelspec": {
   "display_name": "Python 3 (ipykernel)",
   "language": "python",
   "name": "python3"
  },
  "language_info": {
   "codemirror_mode": {
    "name": "ipython",
    "version": 3
   },
   "file_extension": ".py",
   "mimetype": "text/x-python",
   "name": "python",
   "nbconvert_exporter": "python",
   "pygments_lexer": "ipython3",
   "version": "3.8.10"
  }
 },
 "nbformat": 4,
 "nbformat_minor": 5
}