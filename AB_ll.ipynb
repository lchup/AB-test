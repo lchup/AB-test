{
 "cells": [
  {
   "cell_type": "code",
   "execution_count": 1,
   "id": "55234b6d-6e82-4ea1-91d6-e7e7b9104e96",
   "metadata": {},
   "outputs": [],
   "source": [
    "import numpy as np\n",
    "import pandas as pd\n",
    "import matplotlib.pyplot as plt\n",
    "import seaborn as sns\n",
    "import pandahouse as ph\n",
    "%matplotlib inline\n",
    "import warnings\n",
    "\n",
    "warnings.filterwarnings('ignore')"
   ]
  },
  {
   "cell_type": "code",
   "execution_count": 2,
   "id": "0402822c-0157-425e-9251-66388389daf3",
   "metadata": {},
   "outputs": [],
   "source": [
    "\n",
    "connection = {\n",
    "    'host': '',\n",
    "    'database':'',\n",
    "    'user':'',\n",
    "    'password':''\n",
    "}\n"
   ]
  },
  {
   "cell_type": "code",
   "execution_count": 3,
   "id": "748fd069-1ab6-441b-9b23-3a757929bc0b",
   "metadata": {},
   "outputs": [
    {
     "data": {
      "text/html": [
       "<div>\n",
       "<style scoped>\n",
       "    .dataframe tbody tr th:only-of-type {\n",
       "        vertical-align: middle;\n",
       "    }\n",
       "\n",
       "    .dataframe tbody tr th {\n",
       "        vertical-align: top;\n",
       "    }\n",
       "\n",
       "    .dataframe thead th {\n",
       "        text-align: right;\n",
       "    }\n",
       "</style>\n",
       "<table border=\"1\" class=\"dataframe\">\n",
       "  <thead>\n",
       "    <tr style=\"text-align: right;\">\n",
       "      <th></th>\n",
       "      <th>exp_group</th>\n",
       "      <th>user_id</th>\n",
       "      <th>likes</th>\n",
       "      <th>views</th>\n",
       "      <th>ctr</th>\n",
       "    </tr>\n",
       "  </thead>\n",
       "  <tbody>\n",
       "    <tr>\n",
       "      <th>0</th>\n",
       "      <td>1</td>\n",
       "      <td>18392</td>\n",
       "      <td>7</td>\n",
       "      <td>32</td>\n",
       "      <td>0.218750</td>\n",
       "    </tr>\n",
       "    <tr>\n",
       "      <th>1</th>\n",
       "      <td>3</td>\n",
       "      <td>115383</td>\n",
       "      <td>12</td>\n",
       "      <td>44</td>\n",
       "      <td>0.272727</td>\n",
       "    </tr>\n",
       "    <tr>\n",
       "      <th>2</th>\n",
       "      <td>2</td>\n",
       "      <td>131473</td>\n",
       "      <td>9</td>\n",
       "      <td>108</td>\n",
       "      <td>0.083333</td>\n",
       "    </tr>\n",
       "    <tr>\n",
       "      <th>3</th>\n",
       "      <td>3</td>\n",
       "      <td>123580</td>\n",
       "      <td>2</td>\n",
       "      <td>11</td>\n",
       "      <td>0.181818</td>\n",
       "    </tr>\n",
       "    <tr>\n",
       "      <th>4</th>\n",
       "      <td>2</td>\n",
       "      <td>32420</td>\n",
       "      <td>13</td>\n",
       "      <td>44</td>\n",
       "      <td>0.295455</td>\n",
       "    </tr>\n",
       "    <tr>\n",
       "      <th>...</th>\n",
       "      <td>...</td>\n",
       "      <td>...</td>\n",
       "      <td>...</td>\n",
       "      <td>...</td>\n",
       "      <td>...</td>\n",
       "    </tr>\n",
       "    <tr>\n",
       "      <th>39814</th>\n",
       "      <td>0</td>\n",
       "      <td>27030</td>\n",
       "      <td>12</td>\n",
       "      <td>64</td>\n",
       "      <td>0.187500</td>\n",
       "    </tr>\n",
       "    <tr>\n",
       "      <th>39815</th>\n",
       "      <td>3</td>\n",
       "      <td>122758</td>\n",
       "      <td>20</td>\n",
       "      <td>118</td>\n",
       "      <td>0.169492</td>\n",
       "    </tr>\n",
       "    <tr>\n",
       "      <th>39816</th>\n",
       "      <td>1</td>\n",
       "      <td>132567</td>\n",
       "      <td>52</td>\n",
       "      <td>326</td>\n",
       "      <td>0.159509</td>\n",
       "    </tr>\n",
       "    <tr>\n",
       "      <th>39817</th>\n",
       "      <td>3</td>\n",
       "      <td>122190</td>\n",
       "      <td>19</td>\n",
       "      <td>65</td>\n",
       "      <td>0.292308</td>\n",
       "    </tr>\n",
       "    <tr>\n",
       "      <th>39818</th>\n",
       "      <td>2</td>\n",
       "      <td>17310</td>\n",
       "      <td>9</td>\n",
       "      <td>82</td>\n",
       "      <td>0.109756</td>\n",
       "    </tr>\n",
       "  </tbody>\n",
       "</table>\n",
       "<p>39819 rows × 5 columns</p>\n",
       "</div>"
      ],
      "text/plain": [
       "       exp_group  user_id  likes  views       ctr\n",
       "0              1    18392      7     32  0.218750\n",
       "1              3   115383     12     44  0.272727\n",
       "2              2   131473      9    108  0.083333\n",
       "3              3   123580      2     11  0.181818\n",
       "4              2    32420     13     44  0.295455\n",
       "...          ...      ...    ...    ...       ...\n",
       "39814          0    27030     12     64  0.187500\n",
       "39815          3   122758     20    118  0.169492\n",
       "39816          1   132567     52    326  0.159509\n",
       "39817          3   122190     19     65  0.292308\n",
       "39818          2    17310      9     82  0.109756\n",
       "\n",
       "[39819 rows x 5 columns]"
      ]
     },
     "execution_count": 3,
     "metadata": {},
     "output_type": "execute_result"
    }
   ],
   "source": [
    "q = \"\"\"\n",
    "    SELECT exp_group, user_id,\n",
    "    sum(action = 'like') as likes,\n",
    "    sum(action = 'view') as views,\n",
    "    likes/views as ctr\n",
    "    FROM {db}.feed_actions\n",
    "    WHERE toDate(time) between '2023-11-18' and '2023-11-24'\n",
    "    and exp_group in (0,1,2,3)\n",
    "    GROUP BY exp_group, user_id\n",
    "\"\"\"\n",
    "df = ph.read_clickhouse(q, connection=connection)\n",
    "df"
   ]
  },
  {
   "cell_type": "code",
   "execution_count": 5,
   "id": "5adefce3-d393-4598-9bbc-a8dc45e39d06",
   "metadata": {},
   "outputs": [],
   "source": [
    "CTRControl_3 = df[df.exp_group == 3].likes.sum()/df[df.exp_group == 3].views.sum()\n",
    "CTRControl_2 = df[df.exp_group == 2].likes.sum()/df[df.exp_group == 2].views.sum()"
   ]
  },
  {
   "cell_type": "code",
   "execution_count": 6,
   "id": "a14c6549-08aa-43fb-b67c-8819897e0abf",
   "metadata": {},
   "outputs": [
    {
     "data": {
      "text/plain": [
       "(0.2262072573713517, 0.20025051027061783)"
      ]
     },
     "execution_count": 6,
     "metadata": {},
     "output_type": "execute_result"
    }
   ],
   "source": [
    "CTRControl_3, CTRControl_2"
   ]
  },
  {
   "cell_type": "code",
   "execution_count": 9,
   "id": "b69c76d6-16b8-4409-8caa-de8758f7e34d",
   "metadata": {},
   "outputs": [],
   "source": [
    "linearized_likes_0 = df[df.exp_group == 0].likes - CTRControl_3 * df[df.exp_group == 0].views\n",
    "linearized_likes_3 = df[df.exp_group == 3].likes - CTRControl_3 * df[df.exp_group == 3].views\n",
    "linearized_likes_1 = df[df.exp_group == 1].likes - CTRControl_2 * df[df.exp_group == 1].views\n",
    "linearized_likes_2 = df[df.exp_group == 2].likes - CTRControl_2 * df[df.exp_group == 2].views"
   ]
  },
  {
   "cell_type": "markdown",
   "id": "6b462124-d1e0-4cea-bd5f-334dc2f0b2f4",
   "metadata": {},
   "source": [
    "# t-test\n"
   ]
  },
  {
   "cell_type": "markdown",
   "id": "2f11ff30-27b8-417e-a456-f1c728e42861",
   "metadata": {},
   "source": [
    "## Группы 0 и 3"
   ]
  },
  {
   "cell_type": "code",
   "execution_count": 11,
   "id": "950958b9-5ad1-4829-8517-a4166343a02e",
   "metadata": {},
   "outputs": [
    {
     "name": "stdout",
     "output_type": "stream",
     "text": [
      "t-test Линеаризированные лайки\n",
      "Ttest_indResult(statistic=15.968566174822874, pvalue=4.788878529845026e-57)\n",
      "\n",
      "t-test Обычный ctr\n",
      "Ttest_indResult(statistic=13.935320516755823, pvalue=6.216047483057877e-44)\n"
     ]
    }
   ],
   "source": [
    "from scipy.stats import ttest_ind\n",
    "print('t-test Линеаризированные лайки')\n",
    "print(ttest_ind(linearized_likes_3, linearized_likes_0,  equal_var = False))\n",
    "\n",
    "print('\\nt-test Обычный ctr')\n",
    "print(ttest_ind(df[df.exp_group == 3].ctr, df[df.exp_group == 0].ctr, equal_var = False))"
   ]
  },
  {
   "cell_type": "markdown",
   "id": "aef397c1-11b6-4ec6-b8e7-3f24a7bb2ac7",
   "metadata": {},
   "source": [
    "\n",
    "\n",
    "## Группы 1 и 2"
   ]
  },
  {
   "cell_type": "code",
   "execution_count": 12,
   "id": "ec91e59d-640d-4b4b-9bb7-01bc926cc573",
   "metadata": {},
   "outputs": [
    {
     "name": "stdout",
     "output_type": "stream",
     "text": [
      "t-test Линеаризированные лайки\n",
      "Ttest_indResult(statistic=-5.9970015685163105, pvalue=2.057830534124001e-09)\n",
      "\n",
      "t-test Обычный ctr\n",
      "Ttest_indResult(statistic=-0.40514919131127564, pvalue=0.685373331140751)\n"
     ]
    }
   ],
   "source": [
    "print('t-test Линеаризированные лайки')\n",
    "print(ttest_ind(linearized_likes_2, linearized_likes_1,  equal_var = False))\n",
    "\n",
    "print('\\nt-test Обычный ctr')\n",
    "print(ttest_ind(df[df.exp_group == 2].ctr, df[df.exp_group == 1].ctr, equal_var = False))"
   ]
  },
  {
   "cell_type": "markdown",
   "id": "a889cc11-5062-4976-8139-5533544b81ea",
   "metadata": {},
   "source": [
    "## Выводы\n",
    "Для групп 0 и 3 t-test сработал практически одинаково, но все же p-value для метрики линеаризиованных лайков показало меньшее значение, по сравнению с обычным CTR.\n",
    "\n",
    "Что касается групп 1 и 2, различие в методах явно видно. Для обычного ctr t-test говорил о том, что нет статистически значимого отклонения. Но для метрики линеаризованных лайков t-test отвергает нулевую гипотезу о равенстве средних. "
   ]
  },
  {
   "cell_type": "code",
   "execution_count": null,
   "id": "cd1fbccf-a6ee-4a1b-8aa7-120526fa5a92",
   "metadata": {},
   "outputs": [],
   "source": []
  }
 ],
 "metadata": {
  "kernelspec": {
   "display_name": "Python 3 (ipykernel)",
   "language": "python",
   "name": "python3"
  },
  "language_info": {
   "codemirror_mode": {
    "name": "ipython",
    "version": 3
   },
   "file_extension": ".py",
   "mimetype": "text/x-python",
   "name": "python",
   "nbconvert_exporter": "python",
   "pygments_lexer": "ipython3",
   "version": "3.8.10"
  }
 },
 "nbformat": 4,
 "nbformat_minor": 5
}